{
 "cells": [
  {
   "cell_type": "markdown",
   "metadata": {},
   "source": [
    "# How do the world’s biggest economies cope with the SARS-CoV2 pandemic until April 2020?\n",
    "\n",
    "## by Robert Friebe (April 2020)"
   ]
  },
  {
   "cell_type": "code",
   "execution_count": 46,
   "metadata": {},
   "outputs": [],
   "source": [
    "import pandas as pd\n",
    "import numpy as np\n",
    "import matplotlib.pyplot as plt\n",
    "%matplotlib inline\n",
    "import os\n",
    "\n",
    "import seaborn as sns\n",
    "\n",
    "from sklearn.cluster import KMeans\n",
    "from sklearn.preprocessing import StandardScaler\n",
    "\n",
    "from pandas.plotting import register_matplotlib_converters\n",
    "register_matplotlib_converters()\n",
    "\n",
    "# set up display area to show dataframe in jupyter qtconsole\n",
    "\n",
    "pd.set_option('display.max_colwidth', 500)\n",
    "pd.set_option('display.max_rows', 500)"
   ]
  },
  {
   "cell_type": "markdown",
   "metadata": {},
   "source": [
    "# Questions to be answered\n",
    "\n",
    "1. How the infestation rate does develop in the biggest economies under consideration of unreported cases? \n",
    "2. How the case-related fatality rate does develop in the biggest economies under consideration of the number of unreported cases?\n",
    "3. Where do the biggest economies positioning themselves at the end of April when the case-related fatality rate is compared to the infestation rate?\n",
    "4. Additional clustering using k-means considering the infestation rate and the case-related fatality rate\n",
    "\n",
    "## Data required\n",
    "\n",
    "- JHU-SARS-CoV-2 data\n",
    "- Population by Country\n",
    "- Additional: World Bank Region including Income Groups (for additional analyses)\n",
    "\n",
    "## Resources\n",
    "\n",
    "- World Bank Regions: https://datahelpdesk.worldbank.org/knowledgebase/articles/906519-world-bank-country-and-lending-groups\n",
    "- Population by Country (Up-to-dateness: 2018): https://github.com/datasets/population/tree/master/data\n",
    "- JHU-SARS-CoV-2 data: https://github.com/CSSEGISandData/COVID-19/tree/master/csse_covid_19_data/csse_covid_19_time_series"
   ]
  },
  {
   "cell_type": "markdown",
   "metadata": {},
   "source": [
    "# 1.  Data Gathering & Wrangling\n",
    "\n",
    "## 1.1 Gathering\n",
    "\n",
    "- Johns Hopkins University SARS-CoV2 timeseries (confirmed, recovered, deaths): The data can be downloaded directly from github, this is optional and can be done by uncommenting the \"Read JHU Statistics\" part\n",
    "- World Bank Regions / Income Group by Country\n",
    "- Population by Country"
   ]
  },
  {
   "cell_type": "code",
   "execution_count": 47,
   "metadata": {},
   "outputs": [
    {
     "name": "stdout",
     "output_type": "stream",
     "text": [
      "Confirmed:  (266, 106)\n",
      "Recovered:  (252, 106)\n",
      "Deaths:  (266, 106)\n"
     ]
    }
   ],
   "source": [
    "# JHU-SARS-CoV-2 Statistics\n",
    "\n",
    "## Confirmed cases by day\n",
    "## Recovered cases by day\n",
    "## Deaths by day\n",
    "\n",
    "## All values are cumulative\n",
    "\n",
    "#raw_confirmed = \"https://raw.githubusercontent.com/CSSEGISandData/COVID-19/master/csse_covid_19_data/csse_covid_19_time_series/time_series_covid19_confirmed_global.csv\"\n",
    "#raw_recovered = \"https://raw.githubusercontent.com/CSSEGISandData/COVID-19/master/csse_covid_19_data/csse_covid_19_time_series/time_series_covid19_recovered_global.csv\"\n",
    "#raw_deaths = \"https://raw.githubusercontent.com/CSSEGISandData/COVID-19/master/csse_covid_19_data/csse_covid_19_time_series/time_series_covid19_deaths_global.csv\"\n",
    "\n",
    "#confirmed.to_csv(\"files/confirmed.csv\", index=False)\n",
    "#recovered.to_csv(\"files/recovered.csv\", index=False)\n",
    "#deaths.to_csv(\"files/deaths.csv\", index=False)\n",
    "\n",
    "\n",
    "# Read local files (Up-to-dateness: May 2nd, 2020)\n",
    "confirmed = pd.read_csv('files/confirmed.csv')\n",
    "recovered = pd.read_csv('files/recovered.csv')\n",
    "deaths = pd.read_csv('files/deaths.csv')\n",
    "\n",
    "print(\"Confirmed: \", confirmed.shape)\n",
    "print(\"Recovered: \", recovered.shape)\n",
    "print(\"Deaths: \", deaths.shape)"
   ]
  },
  {
   "cell_type": "code",
   "execution_count": 48,
   "metadata": {},
   "outputs": [
    {
     "name": "stdout",
     "output_type": "stream",
     "text": [
      "Contry by World Bank Region:  (218, 7)\n"
     ]
    }
   ],
   "source": [
    "# World Bank Regions\n",
    "## Read local data\n",
    "wbr = pd.read_excel(\"files/world_bank_region_by_income.xls\", sheet_name=3)\n",
    "print(\"Contry by World Bank Region: \", wbr.shape)"
   ]
  },
  {
   "cell_type": "code",
   "execution_count": 49,
   "metadata": {},
   "outputs": [
    {
     "name": "stdout",
     "output_type": "stream",
     "text": [
      "Population by Country:  (15409, 4)\n"
     ]
    }
   ],
   "source": [
    "# Read Population by Country data\n",
    "# Read local data\n",
    "#pop = pd.read_csv(\"https://raw.githubusercontent.com/datasets/population/master/data/population.csv\")\n",
    "pop = pd.read_csv(\"files/population.csv\")\n",
    "print(\"Population by Country: \", pop.shape)"
   ]
  },
  {
   "cell_type": "markdown",
   "metadata": {},
   "source": [
    "## 1.2 Data Wrangling\n",
    "\n",
    "1. SARS-CoV2 Statistic\n",
    "2. World Bank Regions\n",
    "3. Population by Country\n",
    "4. Merge datasets\n",
    "\n",
    "### 1.2.1 SARS-CoV2 Statistics\n",
    "\n",
    "- Build Category (Confirmed, Recovered, Deaths)\n",
    "- Concatenate Confirmed, Recovered and Deaths tables\n",
    "- Melt dataset (using Pandas melt function) by the variables Category, Province State, Country Region, Latitude and Logitude\n",
    "- Reorder the columns of the dataframe: category, province state, country region, latitude, longitude\n",
    "- Melt the dataframe with the id variables: category, province state, country region, latitude, longitude, so that the date is from wide to long format (tidy)\n",
    "- transform the date into datetype"
   ]
  },
  {
   "cell_type": "code",
   "execution_count": 50,
   "metadata": {},
   "outputs": [],
   "source": [
    "# Make a category column\n",
    "confirmed['category'] = \"confirmed\"\n",
    "recovered['category'] = \"recovered\"\n",
    "deaths['category'] = \"deaths\""
   ]
  },
  {
   "cell_type": "code",
   "execution_count": 51,
   "metadata": {},
   "outputs": [
    {
     "name": "stdout",
     "output_type": "stream",
     "text": [
      "(784, 107)\n"
     ]
    }
   ],
   "source": [
    "# Concatenation\n",
    "frames = [confirmed, recovered, deaths]\n",
    "df = pd.concat(frames)\n",
    "print(df.shape)"
   ]
  },
  {
   "cell_type": "code",
   "execution_count": 52,
   "metadata": {},
   "outputs": [],
   "source": [
    "# Reorder Columns of data frame\n",
    "index = df[['category', 'Province/State', 'Country/Region', 'Lat', 'Long']]\n",
    "date_values = df.drop(['category', 'Province/State', 'Country/Region', 'Lat', 'Long'], axis=1)\n",
    "df2 = pd.concat([index, date_values], axis=1)"
   ]
  },
  {
   "cell_type": "code",
   "execution_count": 53,
   "metadata": {},
   "outputs": [],
   "source": [
    "# Melt, all the dates into one column, the va\n",
    "df3 = pd.melt(df2, id_vars = ['category', 'Province/State', 'Country/Region', 'Lat', 'Long'])"
   ]
  },
  {
   "cell_type": "code",
   "execution_count": 54,
   "metadata": {},
   "outputs": [
    {
     "data": {
      "text/html": [
       "<div>\n",
       "<style scoped>\n",
       "    .dataframe tbody tr th:only-of-type {\n",
       "        vertical-align: middle;\n",
       "    }\n",
       "\n",
       "    .dataframe tbody tr th {\n",
       "        vertical-align: top;\n",
       "    }\n",
       "\n",
       "    .dataframe thead th {\n",
       "        text-align: right;\n",
       "    }\n",
       "</style>\n",
       "<table border=\"1\" class=\"dataframe\">\n",
       "  <thead>\n",
       "    <tr style=\"text-align: right;\">\n",
       "      <th></th>\n",
       "      <th>category</th>\n",
       "      <th>Province/State</th>\n",
       "      <th>Country/Region</th>\n",
       "      <th>Lat</th>\n",
       "      <th>Long</th>\n",
       "      <th>variable</th>\n",
       "      <th>value</th>\n",
       "    </tr>\n",
       "  </thead>\n",
       "  <tbody>\n",
       "    <tr>\n",
       "      <td>78778</td>\n",
       "      <td>recovered</td>\n",
       "      <td>NaN</td>\n",
       "      <td>Germany</td>\n",
       "      <td>51.0</td>\n",
       "      <td>9.0</td>\n",
       "      <td>5/1/20</td>\n",
       "      <td>126900</td>\n",
       "    </tr>\n",
       "    <tr>\n",
       "      <td>79038</td>\n",
       "      <td>deaths</td>\n",
       "      <td>NaN</td>\n",
       "      <td>Germany</td>\n",
       "      <td>51.0</td>\n",
       "      <td>9.0</td>\n",
       "      <td>5/1/20</td>\n",
       "      <td>6736</td>\n",
       "    </tr>\n",
       "    <tr>\n",
       "      <td>79304</td>\n",
       "      <td>confirmed</td>\n",
       "      <td>NaN</td>\n",
       "      <td>Germany</td>\n",
       "      <td>51.0</td>\n",
       "      <td>9.0</td>\n",
       "      <td>5/2/20</td>\n",
       "      <td>164967</td>\n",
       "    </tr>\n",
       "    <tr>\n",
       "      <td>79562</td>\n",
       "      <td>recovered</td>\n",
       "      <td>NaN</td>\n",
       "      <td>Germany</td>\n",
       "      <td>51.0</td>\n",
       "      <td>9.0</td>\n",
       "      <td>5/2/20</td>\n",
       "      <td>129000</td>\n",
       "    </tr>\n",
       "    <tr>\n",
       "      <td>79822</td>\n",
       "      <td>deaths</td>\n",
       "      <td>NaN</td>\n",
       "      <td>Germany</td>\n",
       "      <td>51.0</td>\n",
       "      <td>9.0</td>\n",
       "      <td>5/2/20</td>\n",
       "      <td>6812</td>\n",
       "    </tr>\n",
       "  </tbody>\n",
       "</table>\n",
       "</div>"
      ],
      "text/plain": [
       "        category Province/State Country/Region   Lat  Long variable   value\n",
       "78778  recovered            NaN        Germany  51.0   9.0   5/1/20  126900\n",
       "79038     deaths            NaN        Germany  51.0   9.0   5/1/20    6736\n",
       "79304  confirmed            NaN        Germany  51.0   9.0   5/2/20  164967\n",
       "79562  recovered            NaN        Germany  51.0   9.0   5/2/20  129000\n",
       "79822     deaths            NaN        Germany  51.0   9.0   5/2/20    6812"
      ]
     },
     "execution_count": 54,
     "metadata": {},
     "output_type": "execute_result"
    }
   ],
   "source": [
    "df3[df3['Country/Region'] == 'Germany'].tail()"
   ]
  },
  {
   "cell_type": "code",
   "execution_count": 55,
   "metadata": {},
   "outputs": [
    {
     "data": {
      "text/html": [
       "<div>\n",
       "<style scoped>\n",
       "    .dataframe tbody tr th:only-of-type {\n",
       "        vertical-align: middle;\n",
       "    }\n",
       "\n",
       "    .dataframe tbody tr th {\n",
       "        vertical-align: top;\n",
       "    }\n",
       "\n",
       "    .dataframe thead th {\n",
       "        text-align: right;\n",
       "    }\n",
       "</style>\n",
       "<table border=\"1\" class=\"dataframe\">\n",
       "  <thead>\n",
       "    <tr style=\"text-align: right;\">\n",
       "      <th></th>\n",
       "      <th>category</th>\n",
       "      <th>Province/State</th>\n",
       "      <th>Country/Region</th>\n",
       "      <th>Lat</th>\n",
       "      <th>Long</th>\n",
       "      <th>value</th>\n",
       "      <th>date</th>\n",
       "    </tr>\n",
       "  </thead>\n",
       "  <tbody>\n",
       "    <tr>\n",
       "      <td>78778</td>\n",
       "      <td>recovered</td>\n",
       "      <td>NaN</td>\n",
       "      <td>Germany</td>\n",
       "      <td>51.0</td>\n",
       "      <td>9.0</td>\n",
       "      <td>126900</td>\n",
       "      <td>2020-05-01</td>\n",
       "    </tr>\n",
       "    <tr>\n",
       "      <td>79038</td>\n",
       "      <td>deaths</td>\n",
       "      <td>NaN</td>\n",
       "      <td>Germany</td>\n",
       "      <td>51.0</td>\n",
       "      <td>9.0</td>\n",
       "      <td>6736</td>\n",
       "      <td>2020-05-01</td>\n",
       "    </tr>\n",
       "    <tr>\n",
       "      <td>79304</td>\n",
       "      <td>confirmed</td>\n",
       "      <td>NaN</td>\n",
       "      <td>Germany</td>\n",
       "      <td>51.0</td>\n",
       "      <td>9.0</td>\n",
       "      <td>164967</td>\n",
       "      <td>2020-05-02</td>\n",
       "    </tr>\n",
       "    <tr>\n",
       "      <td>79562</td>\n",
       "      <td>recovered</td>\n",
       "      <td>NaN</td>\n",
       "      <td>Germany</td>\n",
       "      <td>51.0</td>\n",
       "      <td>9.0</td>\n",
       "      <td>129000</td>\n",
       "      <td>2020-05-02</td>\n",
       "    </tr>\n",
       "    <tr>\n",
       "      <td>79822</td>\n",
       "      <td>deaths</td>\n",
       "      <td>NaN</td>\n",
       "      <td>Germany</td>\n",
       "      <td>51.0</td>\n",
       "      <td>9.0</td>\n",
       "      <td>6812</td>\n",
       "      <td>2020-05-02</td>\n",
       "    </tr>\n",
       "  </tbody>\n",
       "</table>\n",
       "</div>"
      ],
      "text/plain": [
       "        category Province/State Country/Region   Lat  Long   value       date\n",
       "78778  recovered            NaN        Germany  51.0   9.0  126900 2020-05-01\n",
       "79038     deaths            NaN        Germany  51.0   9.0    6736 2020-05-01\n",
       "79304  confirmed            NaN        Germany  51.0   9.0  164967 2020-05-02\n",
       "79562  recovered            NaN        Germany  51.0   9.0  129000 2020-05-02\n",
       "79822     deaths            NaN        Germany  51.0   9.0    6812 2020-05-02"
      ]
     },
     "execution_count": 55,
     "metadata": {},
     "output_type": "execute_result"
    }
   ],
   "source": [
    "# Make date type column\n",
    "df4 = df3.copy()\n",
    "df4['date'] = pd.to_datetime(df4['variable'])\n",
    "df4.drop(['variable'], axis=1, inplace=True)\n",
    "\n",
    "df4[df4['Country/Region'] == 'Germany'].tail()"
   ]
  },
  {
   "cell_type": "code",
   "execution_count": 56,
   "metadata": {},
   "outputs": [
    {
     "data": {
      "text/plain": [
       "(79968, 7)"
      ]
     },
     "execution_count": 56,
     "metadata": {},
     "output_type": "execute_result"
    }
   ],
   "source": [
    "df4.shape"
   ]
  },
  {
   "cell_type": "markdown",
   "metadata": {},
   "source": [
    "- Before we continue to wrangle the data any further, we have to aggregate the data by Country Region\n",
    "- Some contries are diffentiated by their Province States, e.g. Canada or China\n",
    "- But our analysis is based on the level of Country Region\n",
    "- We dont need the Latitude and Longitude any longer, since we are not going to plot the data on a map\n",
    "\n",
    "- Source: Pandas GroupBy: Your Guide to Grouping Data in Python (https://realpython.com/pandas-groupby/)"
   ]
  },
  {
   "cell_type": "code",
   "execution_count": 57,
   "metadata": {},
   "outputs": [
    {
     "data": {
      "text/plain": [
       "(57222, 4)"
      ]
     },
     "execution_count": 57,
     "metadata": {},
     "output_type": "execute_result"
    }
   ],
   "source": [
    "df5 = df4.groupby(['category', 'Country/Region', 'date'], as_index=False)['value'].sum()\n",
    "df5.shape"
   ]
  },
  {
   "cell_type": "code",
   "execution_count": 58,
   "metadata": {},
   "outputs": [
    {
     "data": {
      "text/html": [
       "<div>\n",
       "<style scoped>\n",
       "    .dataframe tbody tr th:only-of-type {\n",
       "        vertical-align: middle;\n",
       "    }\n",
       "\n",
       "    .dataframe tbody tr th {\n",
       "        vertical-align: top;\n",
       "    }\n",
       "\n",
       "    .dataframe thead th {\n",
       "        text-align: right;\n",
       "    }\n",
       "</style>\n",
       "<table border=\"1\" class=\"dataframe\">\n",
       "  <thead>\n",
       "    <tr style=\"text-align: right;\">\n",
       "      <th></th>\n",
       "      <th>category</th>\n",
       "      <th>Country/Region</th>\n",
       "      <th>date</th>\n",
       "      <th>value</th>\n",
       "    </tr>\n",
       "  </thead>\n",
       "  <tbody>\n",
       "    <tr>\n",
       "      <td>44977</td>\n",
       "      <td>recovered</td>\n",
       "      <td>Germany</td>\n",
       "      <td>2020-04-28</td>\n",
       "      <td>117400</td>\n",
       "    </tr>\n",
       "    <tr>\n",
       "      <td>44978</td>\n",
       "      <td>recovered</td>\n",
       "      <td>Germany</td>\n",
       "      <td>2020-04-29</td>\n",
       "      <td>120400</td>\n",
       "    </tr>\n",
       "    <tr>\n",
       "      <td>44979</td>\n",
       "      <td>recovered</td>\n",
       "      <td>Germany</td>\n",
       "      <td>2020-04-30</td>\n",
       "      <td>123500</td>\n",
       "    </tr>\n",
       "    <tr>\n",
       "      <td>44980</td>\n",
       "      <td>recovered</td>\n",
       "      <td>Germany</td>\n",
       "      <td>2020-05-01</td>\n",
       "      <td>126900</td>\n",
       "    </tr>\n",
       "    <tr>\n",
       "      <td>44981</td>\n",
       "      <td>recovered</td>\n",
       "      <td>Germany</td>\n",
       "      <td>2020-05-02</td>\n",
       "      <td>129000</td>\n",
       "    </tr>\n",
       "  </tbody>\n",
       "</table>\n",
       "</div>"
      ],
      "text/plain": [
       "        category Country/Region       date   value\n",
       "44977  recovered        Germany 2020-04-28  117400\n",
       "44978  recovered        Germany 2020-04-29  120400\n",
       "44979  recovered        Germany 2020-04-30  123500\n",
       "44980  recovered        Germany 2020-05-01  126900\n",
       "44981  recovered        Germany 2020-05-02  129000"
      ]
     },
     "execution_count": 58,
     "metadata": {},
     "output_type": "execute_result"
    }
   ],
   "source": [
    "df5[df5['Country/Region'] == 'Germany'].tail()"
   ]
  },
  {
   "cell_type": "code",
   "execution_count": 59,
   "metadata": {},
   "outputs": [],
   "source": [
    "# Removing leading and trailing white spaces in province state\n",
    "df5['Country/Region'] = df5['Country/Region'].str.strip()"
   ]
  },
  {
   "cell_type": "markdown",
   "metadata": {},
   "source": [
    "- Don't needed anymore, since we are not using the Province/State for analysis"
   ]
  },
  {
   "cell_type": "code",
   "execution_count": 60,
   "metadata": {},
   "outputs": [
    {
     "data": {
      "text/html": [
       "<div>\n",
       "<style scoped>\n",
       "    .dataframe tbody tr th:only-of-type {\n",
       "        vertical-align: middle;\n",
       "    }\n",
       "\n",
       "    .dataframe tbody tr th {\n",
       "        vertical-align: top;\n",
       "    }\n",
       "\n",
       "    .dataframe thead th {\n",
       "        text-align: right;\n",
       "    }\n",
       "</style>\n",
       "<table border=\"1\" class=\"dataframe\">\n",
       "  <thead>\n",
       "    <tr style=\"text-align: right;\">\n",
       "      <th>category</th>\n",
       "      <th>Country/Region</th>\n",
       "      <th>date</th>\n",
       "      <th>confirmed</th>\n",
       "      <th>deaths</th>\n",
       "      <th>recovered</th>\n",
       "    </tr>\n",
       "  </thead>\n",
       "  <tbody>\n",
       "    <tr>\n",
       "      <td>6829</td>\n",
       "      <td>Germany</td>\n",
       "      <td>2020-04-28</td>\n",
       "      <td>159912</td>\n",
       "      <td>6314</td>\n",
       "      <td>117400</td>\n",
       "    </tr>\n",
       "    <tr>\n",
       "      <td>6830</td>\n",
       "      <td>Germany</td>\n",
       "      <td>2020-04-29</td>\n",
       "      <td>161539</td>\n",
       "      <td>6467</td>\n",
       "      <td>120400</td>\n",
       "    </tr>\n",
       "    <tr>\n",
       "      <td>6831</td>\n",
       "      <td>Germany</td>\n",
       "      <td>2020-04-30</td>\n",
       "      <td>163009</td>\n",
       "      <td>6623</td>\n",
       "      <td>123500</td>\n",
       "    </tr>\n",
       "    <tr>\n",
       "      <td>6832</td>\n",
       "      <td>Germany</td>\n",
       "      <td>2020-05-01</td>\n",
       "      <td>164077</td>\n",
       "      <td>6736</td>\n",
       "      <td>126900</td>\n",
       "    </tr>\n",
       "    <tr>\n",
       "      <td>6833</td>\n",
       "      <td>Germany</td>\n",
       "      <td>2020-05-02</td>\n",
       "      <td>164967</td>\n",
       "      <td>6812</td>\n",
       "      <td>129000</td>\n",
       "    </tr>\n",
       "  </tbody>\n",
       "</table>\n",
       "</div>"
      ],
      "text/plain": [
       "category Country/Region       date  confirmed  deaths  recovered\n",
       "6829            Germany 2020-04-28     159912    6314     117400\n",
       "6830            Germany 2020-04-29     161539    6467     120400\n",
       "6831            Germany 2020-04-30     163009    6623     123500\n",
       "6832            Germany 2020-05-01     164077    6736     126900\n",
       "6833            Germany 2020-05-02     164967    6812     129000"
      ]
     },
     "execution_count": 60,
     "metadata": {},
     "output_type": "execute_result"
    }
   ],
   "source": [
    "# transpose dataset ID-Columns: country.region, date\n",
    "## stackoverflow: pandas equivalent for R dcast\n",
    "## https://stackoverflow.com/questions/36970264/pandas-equivalent-for-r-dcast\n",
    "\n",
    "df6 = (df5.pivot_table(index = [\"Country/Region\", \"date\"],\n",
    "                      columns = \"category\",\n",
    "                      values = \"value\").reset_index())\n",
    "\n",
    "df6[df6['Country/Region'] == 'Germany'].tail()"
   ]
  },
  {
   "cell_type": "markdown",
   "metadata": {},
   "source": [
    "#### 1.2.1.1 Clean confirmed, deaths, recovered\n",
    "\n",
    "#### Problem\n",
    "\n",
    "- The columns confirmed, deaths and recovered are cumulative\n",
    "- the value of the following day may not be less than that of the previous day\n",
    "- As can be seen for the example of Spain, those errors must be corrected for all countries, because the calculation of the additional features depends on these measures\n",
    "\n",
    "#### Solution \n",
    "\n",
    "- Create a function \"cum_repair\" that takes a dataset and a measure\n",
    "- It will test, if the current observation of the measure is bigger than the previous observation\n",
    "- If not, the current observation will take the value of the previous observation\n",
    "- This will be done for the 3 measures: confirmed, recovered and deaths"
   ]
  },
  {
   "cell_type": "code",
   "execution_count": 61,
   "metadata": {},
   "outputs": [
    {
     "data": {
      "text/html": [
       "<div>\n",
       "<style scoped>\n",
       "    .dataframe tbody tr th:only-of-type {\n",
       "        vertical-align: middle;\n",
       "    }\n",
       "\n",
       "    .dataframe tbody tr th {\n",
       "        vertical-align: top;\n",
       "    }\n",
       "\n",
       "    .dataframe thead th {\n",
       "        text-align: right;\n",
       "    }\n",
       "</style>\n",
       "<table border=\"1\" class=\"dataframe\">\n",
       "  <thead>\n",
       "    <tr style=\"text-align: right;\">\n",
       "      <th>category</th>\n",
       "      <th>Country/Region</th>\n",
       "      <th>date</th>\n",
       "      <th>confirmed</th>\n",
       "      <th>deaths</th>\n",
       "      <th>recovered</th>\n",
       "    </tr>\n",
       "  </thead>\n",
       "  <tbody>\n",
       "    <tr>\n",
       "      <td>16105</td>\n",
       "      <td>Spain</td>\n",
       "      <td>2020-04-22</td>\n",
       "      <td>208389</td>\n",
       "      <td>21717</td>\n",
       "      <td>85915</td>\n",
       "    </tr>\n",
       "    <tr>\n",
       "      <td>16106</td>\n",
       "      <td>Spain</td>\n",
       "      <td>2020-04-23</td>\n",
       "      <td>213024</td>\n",
       "      <td>22157</td>\n",
       "      <td>89250</td>\n",
       "    </tr>\n",
       "    <tr>\n",
       "      <td>16107</td>\n",
       "      <td>Spain</td>\n",
       "      <td>2020-04-24</td>\n",
       "      <td>202990</td>\n",
       "      <td>22524</td>\n",
       "      <td>92355</td>\n",
       "    </tr>\n",
       "    <tr>\n",
       "      <td>16108</td>\n",
       "      <td>Spain</td>\n",
       "      <td>2020-04-25</td>\n",
       "      <td>205905</td>\n",
       "      <td>22902</td>\n",
       "      <td>95708</td>\n",
       "    </tr>\n",
       "    <tr>\n",
       "      <td>16109</td>\n",
       "      <td>Spain</td>\n",
       "      <td>2020-04-26</td>\n",
       "      <td>207634</td>\n",
       "      <td>23190</td>\n",
       "      <td>98372</td>\n",
       "    </tr>\n",
       "    <tr>\n",
       "      <td>16110</td>\n",
       "      <td>Spain</td>\n",
       "      <td>2020-04-27</td>\n",
       "      <td>209465</td>\n",
       "      <td>23521</td>\n",
       "      <td>100875</td>\n",
       "    </tr>\n",
       "    <tr>\n",
       "      <td>16111</td>\n",
       "      <td>Spain</td>\n",
       "      <td>2020-04-28</td>\n",
       "      <td>210773</td>\n",
       "      <td>23822</td>\n",
       "      <td>102548</td>\n",
       "    </tr>\n",
       "    <tr>\n",
       "      <td>16112</td>\n",
       "      <td>Spain</td>\n",
       "      <td>2020-04-29</td>\n",
       "      <td>212917</td>\n",
       "      <td>24275</td>\n",
       "      <td>108947</td>\n",
       "    </tr>\n",
       "    <tr>\n",
       "      <td>16113</td>\n",
       "      <td>Spain</td>\n",
       "      <td>2020-04-30</td>\n",
       "      <td>213435</td>\n",
       "      <td>24543</td>\n",
       "      <td>112050</td>\n",
       "    </tr>\n",
       "    <tr>\n",
       "      <td>16114</td>\n",
       "      <td>Spain</td>\n",
       "      <td>2020-05-01</td>\n",
       "      <td>213435</td>\n",
       "      <td>24543</td>\n",
       "      <td>112050</td>\n",
       "    </tr>\n",
       "  </tbody>\n",
       "</table>\n",
       "</div>"
      ],
      "text/plain": [
       "category Country/Region       date  confirmed  deaths  recovered\n",
       "16105             Spain 2020-04-22     208389   21717      85915\n",
       "16106             Spain 2020-04-23     213024   22157      89250\n",
       "16107             Spain 2020-04-24     202990   22524      92355\n",
       "16108             Spain 2020-04-25     205905   22902      95708\n",
       "16109             Spain 2020-04-26     207634   23190      98372\n",
       "16110             Spain 2020-04-27     209465   23521     100875\n",
       "16111             Spain 2020-04-28     210773   23822     102548\n",
       "16112             Spain 2020-04-29     212917   24275     108947\n",
       "16113             Spain 2020-04-30     213435   24543     112050\n",
       "16114             Spain 2020-05-01     213435   24543     112050"
      ]
     },
     "execution_count": 61,
     "metadata": {},
     "output_type": "execute_result"
    }
   ],
   "source": [
    "df6[(df6['Country/Region'] == 'Spain') & (df6['date'] >= '2020-04-22') & (df6['date'] < '2020-05-02') ]"
   ]
  },
  {
   "cell_type": "code",
   "execution_count": 62,
   "metadata": {},
   "outputs": [],
   "source": [
    "# Iterate over alle Countries\n",
    "\n",
    "# Iterate over all rows\n",
    "# If previous value is bigger than actual, set previous value\n",
    "# If previous value is not bigger than actual value, go on and save actual value \n",
    "def cum_repair(df, column):\n",
    "    \n",
    "    countries = df['Country/Region'].unique()\n",
    "\n",
    "    for country in countries:\n",
    "\n",
    "        # Subset dataframe\n",
    "        tbl = df[df['Country/Region'] == country]\n",
    "\n",
    "        # Initial value\n",
    "        previous = int(tbl[tbl['date'] == min(tbl['date'])][column])   \n",
    "\n",
    "        # Delete from original dataset\n",
    "        df = df[df['Country/Region'] != country]\n",
    "\n",
    "        for index, row in tbl.iterrows():\n",
    "            # If value is greater or equal previous value set previous to actual value\n",
    "            if tbl.loc[index, column] >= previous:\n",
    "                previous = tbl.loc[index, column]\n",
    "                \n",
    "            # If value is smaller than previous value, update actual value with previous\n",
    "            if tbl.loc[index, column] < previous:\n",
    "\n",
    "            # Uncomment if you want to see which values are updated\n",
    "             #   print(tbl.loc[index, 'Country/Region'], tbl.loc[index, 'date'],\n",
    "             #        \"old: \", tbl.loc[index, column], \"new: \", previous)\n",
    "\n",
    "                tbl.loc[index, column] = previous\n",
    "                previous_new = tbl.loc[index, column]\n",
    "                previous = previous_new\n",
    "\n",
    "        # concatenate orginial data back with updated data\n",
    "        frames = [df, tbl]\n",
    "        df = pd.concat(frames)\n",
    "    \n",
    "    return df"
   ]
  },
  {
   "cell_type": "code",
   "execution_count": 63,
   "metadata": {},
   "outputs": [],
   "source": [
    "df7 = df6.copy()\n",
    "\n",
    "to_repair = ['confirmed', 'deaths', 'recovered']\n",
    "\n",
    "for column in to_repair:\n",
    "    df7 = cum_repair(df7, column)"
   ]
  },
  {
   "cell_type": "code",
   "execution_count": 64,
   "metadata": {},
   "outputs": [
    {
     "data": {
      "text/html": [
       "<div>\n",
       "<style scoped>\n",
       "    .dataframe tbody tr th:only-of-type {\n",
       "        vertical-align: middle;\n",
       "    }\n",
       "\n",
       "    .dataframe tbody tr th {\n",
       "        vertical-align: top;\n",
       "    }\n",
       "\n",
       "    .dataframe thead th {\n",
       "        text-align: right;\n",
       "    }\n",
       "</style>\n",
       "<table border=\"1\" class=\"dataframe\">\n",
       "  <thead>\n",
       "    <tr style=\"text-align: right;\">\n",
       "      <th>category</th>\n",
       "      <th>Country/Region</th>\n",
       "      <th>date</th>\n",
       "      <th>confirmed</th>\n",
       "      <th>deaths</th>\n",
       "      <th>recovered</th>\n",
       "    </tr>\n",
       "  </thead>\n",
       "  <tbody>\n",
       "    <tr>\n",
       "      <td>16106</td>\n",
       "      <td>Spain</td>\n",
       "      <td>2020-04-23</td>\n",
       "      <td>213024</td>\n",
       "      <td>22157</td>\n",
       "      <td>89250</td>\n",
       "    </tr>\n",
       "    <tr>\n",
       "      <td>16107</td>\n",
       "      <td>Spain</td>\n",
       "      <td>2020-04-24</td>\n",
       "      <td>213024</td>\n",
       "      <td>22524</td>\n",
       "      <td>92355</td>\n",
       "    </tr>\n",
       "    <tr>\n",
       "      <td>16108</td>\n",
       "      <td>Spain</td>\n",
       "      <td>2020-04-25</td>\n",
       "      <td>213024</td>\n",
       "      <td>22902</td>\n",
       "      <td>95708</td>\n",
       "    </tr>\n",
       "    <tr>\n",
       "      <td>16109</td>\n",
       "      <td>Spain</td>\n",
       "      <td>2020-04-26</td>\n",
       "      <td>213024</td>\n",
       "      <td>23190</td>\n",
       "      <td>98372</td>\n",
       "    </tr>\n",
       "    <tr>\n",
       "      <td>16110</td>\n",
       "      <td>Spain</td>\n",
       "      <td>2020-04-27</td>\n",
       "      <td>213024</td>\n",
       "      <td>23521</td>\n",
       "      <td>100875</td>\n",
       "    </tr>\n",
       "    <tr>\n",
       "      <td>16111</td>\n",
       "      <td>Spain</td>\n",
       "      <td>2020-04-28</td>\n",
       "      <td>213024</td>\n",
       "      <td>23822</td>\n",
       "      <td>102548</td>\n",
       "    </tr>\n",
       "    <tr>\n",
       "      <td>16112</td>\n",
       "      <td>Spain</td>\n",
       "      <td>2020-04-29</td>\n",
       "      <td>213024</td>\n",
       "      <td>24275</td>\n",
       "      <td>108947</td>\n",
       "    </tr>\n",
       "    <tr>\n",
       "      <td>16113</td>\n",
       "      <td>Spain</td>\n",
       "      <td>2020-04-30</td>\n",
       "      <td>213435</td>\n",
       "      <td>24543</td>\n",
       "      <td>112050</td>\n",
       "    </tr>\n",
       "    <tr>\n",
       "      <td>16114</td>\n",
       "      <td>Spain</td>\n",
       "      <td>2020-05-01</td>\n",
       "      <td>213435</td>\n",
       "      <td>24543</td>\n",
       "      <td>112050</td>\n",
       "    </tr>\n",
       "    <tr>\n",
       "      <td>16115</td>\n",
       "      <td>Spain</td>\n",
       "      <td>2020-05-02</td>\n",
       "      <td>216582</td>\n",
       "      <td>25100</td>\n",
       "      <td>117248</td>\n",
       "    </tr>\n",
       "  </tbody>\n",
       "</table>\n",
       "</div>"
      ],
      "text/plain": [
       "category Country/Region       date  confirmed  deaths  recovered\n",
       "16106             Spain 2020-04-23     213024   22157      89250\n",
       "16107             Spain 2020-04-24     213024   22524      92355\n",
       "16108             Spain 2020-04-25     213024   22902      95708\n",
       "16109             Spain 2020-04-26     213024   23190      98372\n",
       "16110             Spain 2020-04-27     213024   23521     100875\n",
       "16111             Spain 2020-04-28     213024   23822     102548\n",
       "16112             Spain 2020-04-29     213024   24275     108947\n",
       "16113             Spain 2020-04-30     213435   24543     112050\n",
       "16114             Spain 2020-05-01     213435   24543     112050\n",
       "16115             Spain 2020-05-02     216582   25100     117248"
      ]
     },
     "execution_count": 64,
     "metadata": {},
     "output_type": "execute_result"
    }
   ],
   "source": [
    "# Inspection: Updated dataset\n",
    "df7[df7['Country/Region'].isin(['Spain'])].tail(10)"
   ]
  },
  {
   "cell_type": "markdown",
   "metadata": {},
   "source": [
    "### 1.2.2 World Bank Regions\n",
    "\n",
    "- Only consider economy, code, region, income group "
   ]
  },
  {
   "cell_type": "code",
   "execution_count": 65,
   "metadata": {},
   "outputs": [
    {
     "data": {
      "text/html": [
       "<div>\n",
       "<style scoped>\n",
       "    .dataframe tbody tr th:only-of-type {\n",
       "        vertical-align: middle;\n",
       "    }\n",
       "\n",
       "    .dataframe tbody tr th {\n",
       "        vertical-align: top;\n",
       "    }\n",
       "\n",
       "    .dataframe thead th {\n",
       "        text-align: right;\n",
       "    }\n",
       "</style>\n",
       "<table border=\"1\" class=\"dataframe\">\n",
       "  <thead>\n",
       "    <tr style=\"text-align: right;\">\n",
       "      <th></th>\n",
       "      <th>Economy</th>\n",
       "      <th>Code</th>\n",
       "      <th>X</th>\n",
       "      <th>Region</th>\n",
       "      <th>Income group</th>\n",
       "      <th>Lending category</th>\n",
       "      <th>Other</th>\n",
       "    </tr>\n",
       "  </thead>\n",
       "  <tbody>\n",
       "    <tr>\n",
       "      <td>0</td>\n",
       "      <td>Afghanistan</td>\n",
       "      <td>AFG</td>\n",
       "      <td>NaN</td>\n",
       "      <td>South Asia</td>\n",
       "      <td>Low income</td>\n",
       "      <td>IDA</td>\n",
       "      <td>HIPC</td>\n",
       "    </tr>\n",
       "  </tbody>\n",
       "</table>\n",
       "</div>"
      ],
      "text/plain": [
       "       Economy Code   X      Region Income group Lending category Other\n",
       "0  Afghanistan  AFG NaN  South Asia   Low income              IDA  HIPC"
      ]
     },
     "execution_count": 65,
     "metadata": {},
     "output_type": "execute_result"
    }
   ],
   "source": [
    "wbr.head(1)"
   ]
  },
  {
   "cell_type": "code",
   "execution_count": 66,
   "metadata": {},
   "outputs": [
    {
     "data": {
      "text/plain": [
       "Europe & Central Asia         58\n",
       "Sub-Saharan Africa            48\n",
       "Latin America & Caribbean     42\n",
       "East Asia & Pacific           38\n",
       "Middle East & North Africa    21\n",
       "South Asia                     8\n",
       "North America                  3\n",
       "Name: Region, dtype: int64"
      ]
     },
     "execution_count": 66,
     "metadata": {},
     "output_type": "execute_result"
    }
   ],
   "source": [
    "# subset columns\n",
    "wbr2 = wbr[['Code', 'Region', 'Income group', 'Economy']]\n",
    "# count countries by income group\n",
    "wbr2['Income group'].value_counts()\n",
    "# check for duplicates\n",
    "wbr2[wbr2['Code'].duplicated()]\n",
    "# count countries by region\n",
    "wbr['Region'].value_counts()"
   ]
  },
  {
   "cell_type": "markdown",
   "metadata": {},
   "source": [
    "### 1.2.3 Population by Country\n",
    "\n",
    "- Only use the latest complete population date, which is the year 2018"
   ]
  },
  {
   "cell_type": "code",
   "execution_count": 67,
   "metadata": {},
   "outputs": [
    {
     "data": {
      "text/html": [
       "<div>\n",
       "<style scoped>\n",
       "    .dataframe tbody tr th:only-of-type {\n",
       "        vertical-align: middle;\n",
       "    }\n",
       "\n",
       "    .dataframe tbody tr th {\n",
       "        vertical-align: top;\n",
       "    }\n",
       "\n",
       "    .dataframe thead th {\n",
       "        text-align: right;\n",
       "    }\n",
       "</style>\n",
       "<table border=\"1\" class=\"dataframe\">\n",
       "  <thead>\n",
       "    <tr style=\"text-align: right;\">\n",
       "      <th></th>\n",
       "      <th>Country Name</th>\n",
       "      <th>Country Code</th>\n",
       "      <th>Population</th>\n",
       "    </tr>\n",
       "  </thead>\n",
       "  <tbody>\n",
       "    <tr>\n",
       "      <td>14848</td>\n",
       "      <td>United States</td>\n",
       "      <td>USA</td>\n",
       "      <td>326687501</td>\n",
       "    </tr>\n",
       "  </tbody>\n",
       "</table>\n",
       "</div>"
      ],
      "text/plain": [
       "        Country Name Country Code  Population\n",
       "14848  United States          USA   326687501"
      ]
     },
     "execution_count": 67,
     "metadata": {},
     "output_type": "execute_result"
    }
   ],
   "source": [
    "# duplicates check\n",
    "pop[pop['Country Code'].duplicated()]\n",
    "# Choose latest year (2018)\n",
    "pop2 = pop[pop['Year'] == 2018]\n",
    "pop2.shape\n",
    "# subset columns\n",
    "pop3 = pop2[['Country Name', 'Country Code', 'Value']]\n",
    "# rename value column to population column\n",
    "pop3 = pop3.rename(columns={\"Value\" : \"Population\"})\n",
    "pop3[pop3[\"Country Name\"] == \"United States\"]"
   ]
  },
  {
   "cell_type": "markdown",
   "metadata": {},
   "source": [
    "## 1.2.4 Merge World Bank Region and Population Datasets\n",
    "\n",
    "- merge left join on country code\n",
    "- check if there are missing population data\n",
    "- if so, manually fill in missing values (Eritrea, Taiwan)"
   ]
  },
  {
   "cell_type": "code",
   "execution_count": 68,
   "metadata": {},
   "outputs": [
    {
     "data": {
      "text/plain": [
       "2"
      ]
     },
     "execution_count": 68,
     "metadata": {},
     "output_type": "execute_result"
    }
   ],
   "source": [
    "# Merge, left join on Country Code\n",
    "pop_region = pd.merge(wbr2, pop3, how=\"left\", left_on=['Code'], right_on=['Country Code'])\n",
    "# duplicate check, if zero then okay\n",
    "sum(pop_region.isnull().values.any(axis=1))"
   ]
  },
  {
   "cell_type": "code",
   "execution_count": 69,
   "metadata": {},
   "outputs": [
    {
     "data": {
      "text/html": [
       "<div>\n",
       "<style scoped>\n",
       "    .dataframe tbody tr th:only-of-type {\n",
       "        vertical-align: middle;\n",
       "    }\n",
       "\n",
       "    .dataframe tbody tr th {\n",
       "        vertical-align: top;\n",
       "    }\n",
       "\n",
       "    .dataframe thead th {\n",
       "        text-align: right;\n",
       "    }\n",
       "</style>\n",
       "<table border=\"1\" class=\"dataframe\">\n",
       "  <thead>\n",
       "    <tr style=\"text-align: right;\">\n",
       "      <th></th>\n",
       "      <th>Code</th>\n",
       "      <th>Region</th>\n",
       "      <th>Income group</th>\n",
       "      <th>Economy</th>\n",
       "      <th>Country Name</th>\n",
       "      <th>Country Code</th>\n",
       "      <th>Population</th>\n",
       "    </tr>\n",
       "  </thead>\n",
       "  <tbody>\n",
       "    <tr>\n",
       "      <td>61</td>\n",
       "      <td>ERI</td>\n",
       "      <td>Sub-Saharan Africa</td>\n",
       "      <td>Low income</td>\n",
       "      <td>Eritrea</td>\n",
       "      <td>NaN</td>\n",
       "      <td>NaN</td>\n",
       "      <td>NaN</td>\n",
       "    </tr>\n",
       "    <tr>\n",
       "      <td>190</td>\n",
       "      <td>TWN</td>\n",
       "      <td>East Asia &amp; Pacific</td>\n",
       "      <td>High income</td>\n",
       "      <td>Taiwan, China</td>\n",
       "      <td>NaN</td>\n",
       "      <td>NaN</td>\n",
       "      <td>NaN</td>\n",
       "    </tr>\n",
       "  </tbody>\n",
       "</table>\n",
       "</div>"
      ],
      "text/plain": [
       "    Code               Region Income group        Economy Country Name  \\\n",
       "61   ERI   Sub-Saharan Africa   Low income        Eritrea          NaN   \n",
       "190  TWN  East Asia & Pacific  High income  Taiwan, China          NaN   \n",
       "\n",
       "    Country Code  Population  \n",
       "61           NaN         NaN  \n",
       "190          NaN         NaN  "
      ]
     },
     "execution_count": 69,
     "metadata": {},
     "output_type": "execute_result"
    }
   ],
   "source": [
    "pop_region[pop_region['Country Name'].isnull()]"
   ]
  },
  {
   "cell_type": "code",
   "execution_count": 70,
   "metadata": {},
   "outputs": [],
   "source": [
    "# Taiwan and Eritrea missing in population dataset\n",
    "# manually fill in values \n",
    "\n",
    "pop_region2 = pop_region.copy()\n",
    "\n",
    "# Impute: \n",
    "for i in pop_region2.index:\n",
    "    if pop_region2.loc[i, 'Code'] == 'TWN':\n",
    "        pop_region2.loc[i, 'Population'] = 23808886\n",
    "        pop_region2.loc[i, 'Country Name'] = pop_region2.loc[i, 'Economy']\n",
    "        pop_region2.loc[i, 'Country Code'] = pop_region2.loc[i, 'Code']\n",
    "    if pop_region2.loc[i, 'Code'] == 'ERI':\n",
    "        pop_region2.loc[i, 'Population'] = 3537059\n",
    "        pop_region2.loc[i, 'Country Name'] = pop_region2.loc[i, 'Economy']\n",
    "        pop_region2.loc[i, 'Country Code'] = pop_region2.loc[i, 'Code']\n",
    "        \n"
   ]
  },
  {
   "cell_type": "code",
   "execution_count": 71,
   "metadata": {},
   "outputs": [
    {
     "data": {
      "text/html": [
       "<div>\n",
       "<style scoped>\n",
       "    .dataframe tbody tr th:only-of-type {\n",
       "        vertical-align: middle;\n",
       "    }\n",
       "\n",
       "    .dataframe tbody tr th {\n",
       "        vertical-align: top;\n",
       "    }\n",
       "\n",
       "    .dataframe thead th {\n",
       "        text-align: right;\n",
       "    }\n",
       "</style>\n",
       "<table border=\"1\" class=\"dataframe\">\n",
       "  <thead>\n",
       "    <tr style=\"text-align: right;\">\n",
       "      <th></th>\n",
       "      <th>Code</th>\n",
       "      <th>Region</th>\n",
       "      <th>Income group</th>\n",
       "      <th>Economy</th>\n",
       "      <th>Country Name</th>\n",
       "      <th>Country Code</th>\n",
       "      <th>Population</th>\n",
       "    </tr>\n",
       "  </thead>\n",
       "  <tbody>\n",
       "    <tr>\n",
       "      <td>61</td>\n",
       "      <td>ERI</td>\n",
       "      <td>Sub-Saharan Africa</td>\n",
       "      <td>Low income</td>\n",
       "      <td>Eritrea</td>\n",
       "      <td>Eritrea</td>\n",
       "      <td>ERI</td>\n",
       "      <td>3537059.0</td>\n",
       "    </tr>\n",
       "    <tr>\n",
       "      <td>190</td>\n",
       "      <td>TWN</td>\n",
       "      <td>East Asia &amp; Pacific</td>\n",
       "      <td>High income</td>\n",
       "      <td>Taiwan, China</td>\n",
       "      <td>Taiwan, China</td>\n",
       "      <td>TWN</td>\n",
       "      <td>23808886.0</td>\n",
       "    </tr>\n",
       "  </tbody>\n",
       "</table>\n",
       "</div>"
      ],
      "text/plain": [
       "    Code               Region Income group        Economy   Country Name  \\\n",
       "61   ERI   Sub-Saharan Africa   Low income        Eritrea        Eritrea   \n",
       "190  TWN  East Asia & Pacific  High income  Taiwan, China  Taiwan, China   \n",
       "\n",
       "    Country Code  Population  \n",
       "61           ERI   3537059.0  \n",
       "190          TWN  23808886.0  "
      ]
     },
     "execution_count": 71,
     "metadata": {},
     "output_type": "execute_result"
    }
   ],
   "source": [
    "pop_region2[pop_region2['Code'].isin(['TWN', 'ERI'])]"
   ]
  },
  {
   "cell_type": "markdown",
   "metadata": {},
   "source": [
    "## 1.2.5 Merge SARS-CoV2 dataset with Population_Region dataset\n",
    "\n",
    "- Merge on Country Region\n",
    "- If the Country Names in the two datasets differ, they have to be found and corrected using a dictionary\n",
    "- The country names, not matching with the population_region dataset are altered"
   ]
  },
  {
   "cell_type": "code",
   "execution_count": 72,
   "metadata": {},
   "outputs": [],
   "source": [
    "df8 = pd.merge(df7, pop_region2, how=\"left\", left_on=['Country/Region'], right_on=['Economy'])"
   ]
  },
  {
   "cell_type": "code",
   "execution_count": 73,
   "metadata": {},
   "outputs": [
    {
     "data": {
      "text/plain": [
       "(19074, 12)"
      ]
     },
     "execution_count": 73,
     "metadata": {},
     "output_type": "execute_result"
    }
   ],
   "source": [
    "df8.shape"
   ]
  },
  {
   "cell_type": "code",
   "execution_count": 74,
   "metadata": {},
   "outputs": [
    {
     "data": {
      "text/plain": [
       "Cote d'Ivoire                       102\n",
       "Venezuela                           102\n",
       "Congo (Kinshasa)                    102\n",
       "Saint Kitts and Nevis               102\n",
       "Yemen                               102\n",
       "Diamond Princess                    102\n",
       "Brunei                              102\n",
       "MS Zaandam                          102\n",
       "Holy See                            102\n",
       "US                                  102\n",
       "Congo (Brazzaville)                 102\n",
       "Egypt                               102\n",
       "Korea, South                        102\n",
       "Burma                               102\n",
       "Czechia                             102\n",
       "Slovakia                            102\n",
       "Laos                                102\n",
       "Western Sahara                      102\n",
       "Russia                              102\n",
       "Saint Lucia                         102\n",
       "Kyrgyzstan                          102\n",
       "Saint Vincent and the Grenadines    102\n",
       "Taiwan*                             102\n",
       "Iran                                102\n",
       "Syria                               102\n",
       "Sao Tome and Principe               102\n",
       "Gambia                              102\n",
       "Bahamas                             102\n",
       "Name: Country/Region, dtype: int64"
      ]
     },
     "execution_count": 74,
     "metadata": {},
     "output_type": "execute_result"
    }
   ],
   "source": [
    "# Check Country/Region that didn't matched with Country Name\n",
    "# Show countries in covid-19 dataset, that could not be merged, due to the fact that they're name differ\n",
    "df8[df8['Population'].isnull() == True]['Country/Region'].value_counts()"
   ]
  },
  {
   "cell_type": "code",
   "execution_count": 75,
   "metadata": {},
   "outputs": [],
   "source": [
    "# Country Data: Renaming countries according to dict in pandas (stackoverflow)\n",
    "# Country/Region in covid19 data should match Country Names in World Bank Region Dataset\n",
    "dic = {\n",
    "      'Brunei' : 'Brunei Darussalam',\n",
    "      'Cote d\\'Ivoire' : 'Côte d\\'Ivoire',\n",
    "      'US' : 'United States',\n",
    "      'Western Sahara' : '...',\n",
    "      'Laos' : 'Lao PDR',\n",
    "      'Syria' : 'Syrian Arab Republic',\n",
    "      'Russia' : 'Russian Federation',\n",
    "      'Iran' : 'Iran, Islamic Rep.', \n",
    "      'Congo (Brazzaville)' : 'Congo, Rep.',\n",
    "      'Venezuela' : 'Venezuela, RB',\n",
    "      'Korea, South' : 'Korea, Rep.',\n",
    "      'Yemen' : 'Yemen, Rep.',\n",
    "      'Brunei' : 'Brunei Darussalam',\n",
    "      'Saint Vincent and the Grenadines' : 'St. Vincent and the Grenadines',\n",
    "      'Egypt' : 'Egypt, Arab Rep.',\n",
    "      'Saint Kitts and Nevis' : 'St. Kitts and Nevis',\n",
    "      'Slovakia' : 'Slovak Republic',    \n",
    "      'Congo (Kinshasa)' : 'Congo, Dem. Rep.',\n",
    "      'Burma' : 'Myanmar',\n",
    "      'Gambia' : 'Gambia, The',\n",
    "      'Taiwan*' : 'Taiwan, China',\n",
    "      'Kyrgyzstan' : 'Kyrgyz Republic',\n",
    "      'Bahamas' : 'Bahamas, The',\n",
    "      'Czechia' : 'Czech Republic',\n",
    "      'Saint Lucia' : 'St. Lucia',\n",
    "      'Sao Tome and Principe' : 'São Tomé and Principe'   \n",
    "     # 'MS Zaandam' : '', # no country, ship\n",
    "     #  'Diamond Princess' : '', # no country ship\n",
    "     # 'Holy See' : '' # no real country\n",
    "      } \n",
    "\n",
    "df7['Country/Region'] = df7['Country/Region'].replace(dic)"
   ]
  },
  {
   "cell_type": "code",
   "execution_count": 76,
   "metadata": {},
   "outputs": [],
   "source": [
    "# Join tables again, now with altered country names in covid-19 dataset\n",
    "df8 = pd.merge(df7, pop_region2, how=\"left\", left_on=['Country/Region'], right_on=['Economy'])"
   ]
  },
  {
   "cell_type": "code",
   "execution_count": 77,
   "metadata": {},
   "outputs": [
    {
     "data": {
      "text/plain": [
       "MS Zaandam          102\n",
       "Diamond Princess    102\n",
       "...                 102\n",
       "Holy See            102\n",
       "Name: Country/Region, dtype: int64"
      ]
     },
     "execution_count": 77,
     "metadata": {},
     "output_type": "execute_result"
    }
   ],
   "source": [
    "# Check Country/Region that didn't matched with Country Name\n",
    "df8[df8['Population'].isnull() == True]['Country/Region'].value_counts()"
   ]
  },
  {
   "cell_type": "markdown",
   "metadata": {},
   "source": [
    "- The remaining Country names are no countries (ships: Diamond Princess, MS Zaandam; church = Holy See)\n",
    "-  drop all those rows in the final dataset"
   ]
  },
  {
   "cell_type": "code",
   "execution_count": 78,
   "metadata": {},
   "outputs": [
    {
     "data": {
      "text/html": [
       "<div>\n",
       "<style scoped>\n",
       "    .dataframe tbody tr th:only-of-type {\n",
       "        vertical-align: middle;\n",
       "    }\n",
       "\n",
       "    .dataframe tbody tr th {\n",
       "        vertical-align: top;\n",
       "    }\n",
       "\n",
       "    .dataframe thead th {\n",
       "        text-align: right;\n",
       "    }\n",
       "</style>\n",
       "<table border=\"1\" class=\"dataframe\">\n",
       "  <thead>\n",
       "    <tr style=\"text-align: right;\">\n",
       "      <th></th>\n",
       "      <th>Country/Region</th>\n",
       "      <th>date</th>\n",
       "      <th>confirmed</th>\n",
       "      <th>deaths</th>\n",
       "      <th>recovered</th>\n",
       "      <th>Code</th>\n",
       "      <th>Region</th>\n",
       "      <th>Income group</th>\n",
       "      <th>Economy</th>\n",
       "      <th>Country Name</th>\n",
       "      <th>Country Code</th>\n",
       "      <th>Population</th>\n",
       "    </tr>\n",
       "  </thead>\n",
       "  <tbody>\n",
       "  </tbody>\n",
       "</table>\n",
       "</div>"
      ],
      "text/plain": [
       "Empty DataFrame\n",
       "Columns: [Country/Region, date, confirmed, deaths, recovered, Code, Region, Income group, Economy, Country Name, Country Code, Population]\n",
       "Index: []"
      ]
     },
     "execution_count": 78,
     "metadata": {},
     "output_type": "execute_result"
    }
   ],
   "source": [
    "no_country = ['Diamond Princess', 'MS Zaandam', '...', 'Holy See']\n",
    "for item in no_country:\n",
    "    df8.drop(df8[df8['Country/Region'] == item].index, inplace=True)\n",
    "    \n",
    "df8[df8['Country/Region'].isin(no_country)]"
   ]
  },
  {
   "cell_type": "code",
   "execution_count": 79,
   "metadata": {},
   "outputs": [],
   "source": [
    "df8.reset_index(drop=True, inplace=True)"
   ]
  },
  {
   "cell_type": "code",
   "execution_count": 80,
   "metadata": {},
   "outputs": [
    {
     "data": {
      "text/plain": [
       "Country/Region    0\n",
       "date              0\n",
       "confirmed         0\n",
       "deaths            0\n",
       "recovered         0\n",
       "Code              0\n",
       "Region            0\n",
       "Income group      0\n",
       "Economy           0\n",
       "Country Name      0\n",
       "Country Code      0\n",
       "Population        0\n",
       "dtype: int64"
      ]
     },
     "execution_count": 80,
     "metadata": {},
     "output_type": "execute_result"
    }
   ],
   "source": [
    "# Check if there are missing values in any column\n",
    "df8.isna().sum()"
   ]
  },
  {
   "cell_type": "markdown",
   "metadata": {},
   "source": [
    "# 2. Feature Engineering\n",
    "\n",
    "## 2.1 New features\n",
    "\n",
    "- Active Infections: confirmed cases - (deaths + recovered)\n",
    "- Case Fatality Rate: confirmed deaths / confirmed cases\n",
    "- Crude Mortality Rate: confirmed deaths / population\n",
    "- Confirmed new: confirmed current day - confirmed previous day\n",
    "- New active infections: active current day - active previous day\n",
    "- New deaths\n",
    "- New recovered\n",
    "- Doubling time: log(2) / log((1 + (confirmed new / confirmed)))\n",
    "- Confirmed cases by 100k inhabitants: confirmed / (population/100000)\n",
    "- Dark number = 10 times the confirmed cases by the statistic\n",
    "- Confirmed_dark: confirmed cases * 10\n",
    "- Percentage infections under consideration of the dark number: (confirmed cases * 10) / population\n",
    "- Case Fatality Rate considering dark number: confirmed deaths / (confirmed cases * 10)"
   ]
  },
  {
   "cell_type": "code",
   "execution_count": 81,
   "metadata": {},
   "outputs": [],
   "source": [
    "final = df8.copy()\n",
    "\n",
    "final['active'] = final['confirmed'] - final['recovered'] - final['deaths']\n",
    "final['cfr'] = (final['deaths'] / final['confirmed']) * 100\n",
    "final['cmr'] = (final['deaths'] / final['Population']) * 100\n",
    "\n",
    "# Python pandas equivalent to R groupby mutate\n",
    "final['confirmed_new'] = final.groupby(['Country/Region'], group_keys=False).apply(lambda g: g['confirmed'] - g['confirmed'].shift(1))\n",
    "final['active_new'] = final.groupby(['Country/Region'], group_keys=False).apply(lambda g: g['active'] - g['active'].shift(1))\n",
    "final['deaths_new'] = final.groupby(['Country/Region'], group_keys=False).apply(lambda g: g['deaths'] - g['deaths'].shift(1))\n",
    "final['recovered_new'] = final.groupby(['Country/Region'], group_keys=False).apply(lambda g: g['recovered'] - g['recovered'].shift(1))\n",
    "\n",
    "# Doubling time\n",
    "final['v_t'] = np.round( np.log(2) / np.log(1 + (final['confirmed_new'] / final['confirmed'])) , 4)\n",
    "\n",
    "# Confirmed by 100k inhabitants\n",
    "final['confirmed_100k'] = np.round( final['confirmed'] / (final['Population']/100000), 0)\n",
    "\n",
    "# calculate days since outbreak, more than 100 confirmed cases\n",
    "## stackoverflow: pandas: conditional rolling count\n",
    "## github: ENH: cumcount() for DataFrames and Series\n",
    "final['days_since_outbreak'] = final[final['confirmed'] > 100].groupby('Country/Region').cumcount() + 1\n",
    "\n",
    "# people percentage suffering from disease including dark number\n",
    "final['perc_infected_dn'] = ((final['confirmed'] * 10) / final['Population']) * 100 \n",
    "\n",
    "# Case Fatality Rate considering dark number: confirmed deaths / (confirmed cases * 10)\n",
    "final['perc_cfr_dn'] = (final['deaths'] / (final['confirmed'] * 10)) * 100\n",
    "\n",
    "# Confirmed considering dark number\n",
    "final['confirmed_dn'] = final['confirmed'] * 10"
   ]
  },
  {
   "cell_type": "code",
   "execution_count": 82,
   "metadata": {},
   "outputs": [
    {
     "data": {
      "text/plain": [
       "(18666, 25)"
      ]
     },
     "execution_count": 82,
     "metadata": {},
     "output_type": "execute_result"
    }
   ],
   "source": [
    "final.shape"
   ]
  },
  {
   "cell_type": "markdown",
   "metadata": {},
   "source": [
    "## 2.2 feature, imputation, missing values, infinite values to to calculations\n",
    "\n",
    "- confirmed new, active new, deaths new, recovered new: replace with 0\n",
    "\n",
    "- v_t: calculated as a daily v_t, if no new confirmed, than value is infite, replace infinite value using forward fill : stackoverflow: How to replace NaNs by preceding values in pandas DataFrame? stackoverflow: pandas replace zeros with previous non zero value"
   ]
  },
  {
   "cell_type": "code",
   "execution_count": 83,
   "metadata": {},
   "outputs": [
    {
     "data": {
      "text/plain": [
       "Country/Region             0\n",
       "date                       0\n",
       "confirmed                  0\n",
       "deaths                     0\n",
       "recovered                  0\n",
       "Code                       0\n",
       "Region                     0\n",
       "Income group               0\n",
       "Economy                    0\n",
       "Country Name               0\n",
       "Country Code               0\n",
       "Population                 0\n",
       "active                     0\n",
       "cfr                     7745\n",
       "cmr                        0\n",
       "confirmed_new            183\n",
       "active_new               183\n",
       "deaths_new               183\n",
       "recovered_new            183\n",
       "v_t                     7751\n",
       "confirmed_100k             0\n",
       "days_since_outbreak    12988\n",
       "perc_infected_dn           0\n",
       "perc_cfr_dn             7745\n",
       "confirmed_dn               0\n",
       "dtype: int64"
      ]
     },
     "execution_count": 83,
     "metadata": {},
     "output_type": "execute_result"
    }
   ],
   "source": [
    "final.isna().sum() "
   ]
  },
  {
   "cell_type": "code",
   "execution_count": 84,
   "metadata": {},
   "outputs": [],
   "source": [
    "# doubling time\n",
    "# If value is infinite, replace value with 0\n",
    "# If value is 0, replace value with previous value that is not zero\n",
    "# create a 5 day moving average doubling time, due to smoothen extreme values \n",
    "\n",
    "final['v_t_clean'] = final['v_t']\n",
    "final['v_t_clean'] = final['v_t_clean'].replace([np.inf, -np.inf], 0)\n",
    "final['v_t_clean'] = final['v_t_clean'].replace(to_replace=0, method=\"ffill\")\n",
    "\n",
    "final['v_t_clean_5ma'] = final['v_t_clean'].rolling(5).mean()"
   ]
  },
  {
   "cell_type": "code",
   "execution_count": 85,
   "metadata": {},
   "outputs": [
    {
     "data": {
      "text/plain": [
       "Country/Region         0\n",
       "date                   0\n",
       "confirmed              0\n",
       "deaths                 0\n",
       "recovered              0\n",
       "Code                   0\n",
       "Region                 0\n",
       "Income group           0\n",
       "Economy                0\n",
       "Country Name           0\n",
       "Country Code           0\n",
       "Population             0\n",
       "active                 0\n",
       "cfr                    0\n",
       "cmr                    0\n",
       "confirmed_new          0\n",
       "active_new             0\n",
       "deaths_new             0\n",
       "recovered_new          0\n",
       "v_t                    0\n",
       "confirmed_100k         0\n",
       "days_since_outbreak    0\n",
       "perc_infected_dn       0\n",
       "perc_cfr_dn            0\n",
       "confirmed_dn           0\n",
       "v_t_clean              0\n",
       "v_t_clean_5ma          0\n",
       "dtype: int64"
      ]
     },
     "execution_count": 85,
     "metadata": {},
     "output_type": "execute_result"
    }
   ],
   "source": [
    "# replace all remaining NaN with 0\n",
    "final = final.replace(np.nan, 0)\n",
    "final.isna().sum() "
   ]
  },
  {
   "cell_type": "markdown",
   "metadata": {},
   "source": [
    "## 2.3 Structure of the Final Dataset for Analysis\n",
    "\n",
    "Considers only observations, where are more than 100 confirmed cases"
   ]
  },
  {
   "cell_type": "code",
   "execution_count": 86,
   "metadata": {},
   "outputs": [],
   "source": [
    "final2 = final[final['days_since_outbreak'] > 0]\n",
    "\n",
    "index = final2[['Country/Region', 'Code', 'Region', 'Income group', 'Population', 'date', 'days_since_outbreak']]\n",
    "indicators = final2[['confirmed', 'recovered', 'deaths', 'confirmed_new', 'recovered_new', 'deaths_new',\n",
    "                    'active_new', 'active', 'v_t_clean_5ma', 'confirmed_100k', 'perc_infected_dn', 'perc_cfr_dn',\n",
    "                    'confirmed_dn', 'cfr', 'cmr']]\n",
    "\n",
    "final2 = pd.concat([index, indicators], axis=1)\n",
    "\n",
    "#final2.to_csv(\"files/final_dataset.csv\", index=False)"
   ]
  },
  {
   "cell_type": "markdown",
   "metadata": {},
   "source": [
    "### Example: Canada, latest date"
   ]
  },
  {
   "cell_type": "code",
   "execution_count": 87,
   "metadata": {},
   "outputs": [
    {
     "data": {
      "text/html": [
       "<div>\n",
       "<style scoped>\n",
       "    .dataframe tbody tr th:only-of-type {\n",
       "        vertical-align: middle;\n",
       "    }\n",
       "\n",
       "    .dataframe tbody tr th {\n",
       "        vertical-align: top;\n",
       "    }\n",
       "\n",
       "    .dataframe thead th {\n",
       "        text-align: right;\n",
       "    }\n",
       "</style>\n",
       "<table border=\"1\" class=\"dataframe\">\n",
       "  <thead>\n",
       "    <tr style=\"text-align: right;\">\n",
       "      <th></th>\n",
       "      <th>variable</th>\n",
       "      <th>value</th>\n",
       "    </tr>\n",
       "  </thead>\n",
       "  <tbody>\n",
       "    <tr>\n",
       "      <td>0</td>\n",
       "      <td>Country/Region</td>\n",
       "      <td>Canada</td>\n",
       "    </tr>\n",
       "    <tr>\n",
       "      <td>1</td>\n",
       "      <td>Code</td>\n",
       "      <td>CAN</td>\n",
       "    </tr>\n",
       "    <tr>\n",
       "      <td>2</td>\n",
       "      <td>Region</td>\n",
       "      <td>North America</td>\n",
       "    </tr>\n",
       "    <tr>\n",
       "      <td>3</td>\n",
       "      <td>Income group</td>\n",
       "      <td>High income</td>\n",
       "    </tr>\n",
       "    <tr>\n",
       "      <td>4</td>\n",
       "      <td>Population</td>\n",
       "      <td>3.70578e+07</td>\n",
       "    </tr>\n",
       "    <tr>\n",
       "      <td>5</td>\n",
       "      <td>date</td>\n",
       "      <td>2020-05-02 00:00:00</td>\n",
       "    </tr>\n",
       "    <tr>\n",
       "      <td>6</td>\n",
       "      <td>days_since_outbreak</td>\n",
       "      <td>53</td>\n",
       "    </tr>\n",
       "    <tr>\n",
       "      <td>7</td>\n",
       "      <td>confirmed</td>\n",
       "      <td>57926</td>\n",
       "    </tr>\n",
       "    <tr>\n",
       "      <td>8</td>\n",
       "      <td>recovered</td>\n",
       "      <td>23814</td>\n",
       "    </tr>\n",
       "    <tr>\n",
       "      <td>9</td>\n",
       "      <td>deaths</td>\n",
       "      <td>3684</td>\n",
       "    </tr>\n",
       "    <tr>\n",
       "      <td>10</td>\n",
       "      <td>confirmed_new</td>\n",
       "      <td>1583</td>\n",
       "    </tr>\n",
       "    <tr>\n",
       "      <td>11</td>\n",
       "      <td>recovered_new</td>\n",
       "      <td>1050</td>\n",
       "    </tr>\n",
       "    <tr>\n",
       "      <td>12</td>\n",
       "      <td>deaths_new</td>\n",
       "      <td>147</td>\n",
       "    </tr>\n",
       "    <tr>\n",
       "      <td>13</td>\n",
       "      <td>active_new</td>\n",
       "      <td>386</td>\n",
       "    </tr>\n",
       "    <tr>\n",
       "      <td>14</td>\n",
       "      <td>active</td>\n",
       "      <td>30428</td>\n",
       "    </tr>\n",
       "    <tr>\n",
       "      <td>15</td>\n",
       "      <td>v_t_clean_5ma</td>\n",
       "      <td>23.1969</td>\n",
       "    </tr>\n",
       "    <tr>\n",
       "      <td>16</td>\n",
       "      <td>confirmed_100k</td>\n",
       "      <td>156</td>\n",
       "    </tr>\n",
       "    <tr>\n",
       "      <td>17</td>\n",
       "      <td>perc_infected_dn</td>\n",
       "      <td>1.56313</td>\n",
       "    </tr>\n",
       "    <tr>\n",
       "      <td>18</td>\n",
       "      <td>perc_cfr_dn</td>\n",
       "      <td>0.635984</td>\n",
       "    </tr>\n",
       "    <tr>\n",
       "      <td>19</td>\n",
       "      <td>confirmed_dn</td>\n",
       "      <td>579260</td>\n",
       "    </tr>\n",
       "    <tr>\n",
       "      <td>20</td>\n",
       "      <td>cfr</td>\n",
       "      <td>6.35984</td>\n",
       "    </tr>\n",
       "    <tr>\n",
       "      <td>21</td>\n",
       "      <td>cmr</td>\n",
       "      <td>0.00994124</td>\n",
       "    </tr>\n",
       "  </tbody>\n",
       "</table>\n",
       "</div>"
      ],
      "text/plain": [
       "               variable                value\n",
       "0        Country/Region               Canada\n",
       "1                  Code                  CAN\n",
       "2                Region        North America\n",
       "3          Income group          High income\n",
       "4            Population          3.70578e+07\n",
       "5                  date  2020-05-02 00:00:00\n",
       "6   days_since_outbreak                   53\n",
       "7             confirmed                57926\n",
       "8             recovered                23814\n",
       "9                deaths                 3684\n",
       "10        confirmed_new                 1583\n",
       "11        recovered_new                 1050\n",
       "12           deaths_new                  147\n",
       "13           active_new                  386\n",
       "14               active                30428\n",
       "15        v_t_clean_5ma              23.1969\n",
       "16       confirmed_100k                  156\n",
       "17     perc_infected_dn              1.56313\n",
       "18          perc_cfr_dn             0.635984\n",
       "19         confirmed_dn               579260\n",
       "20                  cfr              6.35984\n",
       "21                  cmr           0.00994124"
      ]
     },
     "execution_count": 87,
     "metadata": {},
     "output_type": "execute_result"
    }
   ],
   "source": [
    "pd.melt(final2[(final2[\"Country/Region\"] == \"Canada\") & (final2['date'] == final2['date'].max())].head(1))"
   ]
  },
  {
   "cell_type": "markdown",
   "metadata": {},
   "source": [
    "# 3. Analysis (Exploratory Timeseries-Data Analysis)"
   ]
  },
  {
   "cell_type": "markdown",
   "metadata": {},
   "source": [
    "## 3.1\tHow the infestation rate does develop in the biggest economies under consideration of unreported cases? "
   ]
  },
  {
   "cell_type": "markdown",
   "metadata": {},
   "source": [
    "- We will select the biggest econonmies and store them into a list \"biggest\".\n",
    "- We will then use Searborn to make a lineplot, showing the development of the infestation rate (considering the dark number, 10 times higher than confirmed cases) over time, represented as days since outbreak (day in a country, since when are more than 100 confirmed cases are reported)\n",
    "- To order the economies in the legend from the economy with the highest infestation to the country with the lowest infestation, we create a TOP list, capturing the results based on the latest date (max_date)"
   ]
  },
  {
   "cell_type": "code",
   "execution_count": 88,
   "metadata": {},
   "outputs": [],
   "source": [
    "# Create a list with the world's biggest economies\n",
    "biggest = ['United States', 'Canada', 'China', 'India', 'Italy',\n",
    "          'United Kingdom', 'France', 'Germany', 'Brazil', 'Korea, Rep.',\n",
    "          'Japan']"
   ]
  },
  {
   "cell_type": "code",
   "execution_count": 89,
   "metadata": {},
   "outputs": [],
   "source": [
    "# Get the latest date from the dataset\n",
    "max_date = final2['date'].max()"
   ]
  },
  {
   "cell_type": "code",
   "execution_count": 90,
   "metadata": {},
   "outputs": [],
   "source": [
    "# Function: Top-List\n",
    "def top_lst (df, max_date, biggest_lst, indicator):\n",
    "    tbl_biggest = df[df['Country/Region'].isin(biggest_lst)]\n",
    "    tops = tbl_biggest[(tbl_biggest['date'] == max_date)].sort_values(by=indicator, ascending=False)\n",
    "    tops_lst = tops['Country/Region']\n",
    "    return tops_lst"
   ]
  },
  {
   "cell_type": "code",
   "execution_count": 91,
   "metadata": {
    "scrolled": true
   },
   "outputs": [
    {
     "data": {
      "image/png": "[encoded data removed]",
      "text/plain": [
       "<Figure size 720x504 with 1 Axes>"
      ]
     },
     "metadata": {
      "needs_background": "light"
     },
     "output_type": "display_data"
    }
   ],
   "source": [
    "# Getting a list with economies in a descending order from highest to lowest by infestation\n",
    "tops_lst = top_lst(final2, max_date, biggest, 'perc_infected_dn')\n",
    "\n",
    "plt.figure(figsize=(10,7))\n",
    "sns.set_context(\"talk\")\n",
    "\n",
    "ax = sns.lineplot(x = \"days_since_outbreak\", \n",
    "             y = \"perc_infected_dn\", \n",
    "             hue = \"Country/Region\", \n",
    "             hue_order = tops_lst, \n",
    "             data = final2[final2['Country/Region'].isin(biggest)])\n",
    "\n",
    "plt.title(\"Development of the Infestation Rate\")\n",
    "plt.ylabel(\"Infestation Rate (%)\")\n",
    "plt.xlabel(\"Days since Outbreak\")\n",
    "\n",
    "plt.legend(fontsize=12) # using a size in points\n",
    "#plt.legend(fontsize=\"x-large\") # using a named size\n",
    "\n",
    "plt.show()\n",
    "\n",
    "#fig = ax.get_figure()\n",
    "#fig.savefig('figures/infestation_rate.png', dpi=100)"
   ]
  },
  {
   "cell_type": "markdown",
   "metadata": {},
   "source": [
    "## 3.2 How the case-related fatality rate does develop in the biggest economies under consideration of the number of unreported cases?"
   ]
  },
  {
   "cell_type": "markdown",
   "metadata": {},
   "source": [
    "- Creating a lineplot using Seaborn to show the development of the case-related fatality rate, considering the number of unreported case, which is assumed to be 10 times higher than the confirmed cases shown by the statistic\n",
    "- The development will be shown over the period \"days since outbreak\", which represent the days, from which more then 100 confirmed cases are reported by a country"
   ]
  },
  {
   "cell_type": "code",
   "execution_count": 92,
   "metadata": {},
   "outputs": [
    {
     "data": {
      "image/png": "[encoded data removed]",
      "text/plain": [
       "<Figure size 720x504 with 1 Axes>"
      ]
     },
     "metadata": {
      "needs_background": "light"
     },
     "output_type": "display_data"
    }
   ],
   "source": [
    "# Getting a list with economies in a descending order from highest to lowest by case-related fataltiy rate\n",
    "tops_lst = top_lst(final2, max_date, biggest, 'perc_cfr_dn')\n",
    "\n",
    "plt.figure(figsize=(10,7))\n",
    "sns.set_context(\"talk\")\n",
    "\n",
    "ax = sns.lineplot(x = \"days_since_outbreak\", \n",
    "             y = \"perc_cfr_dn\", \n",
    "             hue = \"Country/Region\", \n",
    "             hue_order = tops_lst,\n",
    "             data = final2[final2['Country/Region'].isin(biggest)])\n",
    "\n",
    "plt.title(\"Development of the Case-Related Fatality Rate\")\n",
    "plt.ylabel(\"Case-Related Fatality Rate (%)\")\n",
    "plt.xlabel(\"Days since Outbreak\")\n",
    "\n",
    "plt.legend(fontsize=12) # using a size in points\n",
    "#plt.legend(fontsize=\"x-large\") # using a named size\n",
    "\n",
    "plt.show()\n",
    "\n",
    "#fig = ax.get_figure()\n",
    "#fig.savefig('figures/case_related_fatality_rate.png', dpi=100)"
   ]
  },
  {
   "cell_type": "markdown",
   "metadata": {},
   "source": [
    "## 3.3 Where do the biggest economies positioning themselves at the end of April when the case-related fatality rate is compared to the infestation rate?"
   ]
  },
  {
   "cell_type": "markdown",
   "metadata": {},
   "source": [
    "- Create a scatterplot comparing infestation rate with the case-related fatality rate\n",
    "- The plot shows, where the biggest economies positioning themselves a the latest date \n",
    "- The size of the dots represents the number of confirmed cases at the latest date"
   ]
  },
  {
   "cell_type": "code",
   "execution_count": 93,
   "metadata": {},
   "outputs": [
    {
     "data": {
      "image/png": "[encoded data removed]",
      "text/plain": [
       "<Figure size 720x504 with 1 Axes>"
      ]
     },
     "metadata": {
      "needs_background": "light"
     },
     "output_type": "display_data"
    }
   ],
   "source": [
    "sns.set_context(\"talk\")\n",
    "plt.figure(figsize=(10,7))\n",
    "\n",
    "# Create a scatterplot comparing infestation rate with the case-related fatality rate\n",
    "## The plot shows, where the biggest economies positioning themselves a the latest date \n",
    "## The size of the dots represents the number of confirmed cases at the latest date\n",
    "ax = sns.scatterplot(x = \"perc_infected_dn\", \n",
    "                y = \"perc_cfr_dn\", \n",
    "                hue = \"Country/Region\", \n",
    "                     size='confirmed', \n",
    "                     sizes = (10, 1000),\n",
    "             data = final2[(final2['date'] == max_date) & \n",
    "                           (final2['confirmed_dn'] > 10000) &\n",
    "                           (final2['Country/Region'].isin(biggest))])\n",
    "\n",
    "plt.axhline(0.8, 0, 1, linewidth=2, linestyle='--', color='black', alpha=1/2)\n",
    "plt.axvline(1.75, 0, 1, linewidth=2, linestyle='--', color='black', alpha=1/2)\n",
    "ax.set(ylim=(0, max(final2[final2['date'] == max_date]['perc_cfr_dn']) * 1.1))\n",
    "plt.legend(loc='best', framealpha=.01)\n",
    "plt.legend(bbox_to_anchor=(1, 1), loc=2)\n",
    "plt.setp(ax.get_legend().get_texts(), fontsize='13')\n",
    "\n",
    "plt.title(\"Country distribution regarding mortality and infestation (End of April 2020)\")\n",
    "plt.ylabel(\"Case-Related Fatality Rate (%)\")\n",
    "plt.xlabel(\"Infestation Rate (%)\")\n",
    "\n",
    "plt.show()\n",
    "\n",
    "#fig = ax.get_figure()\n",
    "#fig.savefig('figures/mortatlity_infestation.png', dpi=300, bbox_inches='tight')"
   ]
  },
  {
   "cell_type": "markdown",
   "metadata": {},
   "source": [
    "# 4. Additional Modeling (k-Means Clustering)"
   ]
  },
  {
   "cell_type": "markdown",
   "metadata": {},
   "source": [
    "- Using a k-Means clustering algorithm, fitted on the features infestation rate and case-related fatality rate\n",
    "- The clustering will based on the latest date of the dataset (max_date)\n",
    "- Because k-Means is using a Euclidean distance metric, whe apply a standardization to the measures (using StandardScaler)\n",
    "- We us the \"Elbow Method\" to find the optimal number of clusters (considering WCSS (Within Cluster Sum of Squares))\n",
    "- The optimal number of clusters is 5"
   ]
  },
  {
   "cell_type": "code",
   "execution_count": 94,
   "metadata": {},
   "outputs": [
    {
     "data": {
      "image/png": "[encoded data removed]",
      "text/plain": [
       "<Figure size 432x288 with 1 Axes>"
      ]
     },
     "metadata": {
      "needs_background": "light"
     },
     "output_type": "display_data"
    }
   ],
   "source": [
    "sns.set_context(\"paper\")\n",
    "sns.scatterplot(x = \"perc_infected_dn\", \n",
    "                y = \"perc_cfr_dn\", \n",
    "                style = \"Region\", \n",
    "                s=100, \n",
    "             data = final2[(final2['date'] == max_date) & (final2['confirmed_dn'] > 10000)])\n",
    "plt.legend(bbox_to_anchor=(1, 1), loc=2)\n",
    "plt.grid()\n",
    "plt.show()"
   ]
  },
  {
   "cell_type": "code",
   "execution_count": 95,
   "metadata": {},
   "outputs": [],
   "source": [
    "# Create dataset\n",
    "data = final2[(final2['date'] == max_date) & (final2['confirmed_dn'] > 10000)][['Country/Region', 'date', 'confirmed_dn',\n",
    "                                           \"Region\", \"Income group\",\n",
    "                                           'perc_infected_dn', 'perc_cfr_dn']].reset_index()\n",
    "\n",
    "# Standardize Data: infestation rate and case-related fatality rate\n",
    "X =  StandardScaler().fit_transform(data[['perc_infected_dn', 'perc_cfr_dn']])"
   ]
  },
  {
   "cell_type": "code",
   "execution_count": 96,
   "metadata": {},
   "outputs": [
    {
     "data": {
      "image/png": "[encoded data removed]",
      "text/plain": [
       "<Figure size 432x288 with 1 Axes>"
      ]
     },
     "metadata": {
      "needs_background": "light"
     },
     "output_type": "display_data"
    }
   ],
   "source": [
    "# Elbow Method Workflow: towards data science: K-means Clustering Python Example\n",
    "\n",
    "wcss = []\n",
    "\n",
    "for i in range (1, 20):\n",
    "    kmeans = KMeans(n_clusters=i, init='k-means++', max_iter=300, n_init=10, random_state=0)\n",
    "    kmeans.fit(X)\n",
    "    wcss.append(kmeans.inertia_)\n",
    "  \n",
    "plt.plot(range(1, 20), wcss)\n",
    "plt.title('Elbow Method')\n",
    "plt.xlabel('Number of clusters')\n",
    "plt.ylabel('WCSS')\n",
    "plt.show()"
   ]
  },
  {
   "cell_type": "code",
   "execution_count": 97,
   "metadata": {},
   "outputs": [
    {
     "data": {
      "text/html": [
       "<div>\n",
       "<style scoped>\n",
       "    .dataframe tbody tr th:only-of-type {\n",
       "        vertical-align: middle;\n",
       "    }\n",
       "\n",
       "    .dataframe tbody tr th {\n",
       "        vertical-align: top;\n",
       "    }\n",
       "\n",
       "    .dataframe thead th {\n",
       "        text-align: right;\n",
       "    }\n",
       "</style>\n",
       "<table border=\"1\" class=\"dataframe\">\n",
       "  <thead>\n",
       "    <tr style=\"text-align: right;\">\n",
       "      <th></th>\n",
       "      <th>perc_infected_dn</th>\n",
       "      <th>perc_cfr_dn</th>\n",
       "    </tr>\n",
       "    <tr>\n",
       "      <th>cluster</th>\n",
       "      <th></th>\n",
       "      <th></th>\n",
       "    </tr>\n",
       "  </thead>\n",
       "  <tbody>\n",
       "    <tr>\n",
       "      <td>0</td>\n",
       "      <td>1.540297</td>\n",
       "      <td>0.253731</td>\n",
       "    </tr>\n",
       "    <tr>\n",
       "      <td>1</td>\n",
       "      <td>0.389831</td>\n",
       "      <td>0.689807</td>\n",
       "    </tr>\n",
       "    <tr>\n",
       "      <td>2</td>\n",
       "      <td>3.175048</td>\n",
       "      <td>1.363780</td>\n",
       "    </tr>\n",
       "    <tr>\n",
       "      <td>3</td>\n",
       "      <td>4.449441</td>\n",
       "      <td>0.299852</td>\n",
       "    </tr>\n",
       "    <tr>\n",
       "      <td>4</td>\n",
       "      <td>0.259622</td>\n",
       "      <td>0.236885</td>\n",
       "    </tr>\n",
       "  </tbody>\n",
       "</table>\n",
       "</div>"
      ],
      "text/plain": [
       "         perc_infected_dn  perc_cfr_dn\n",
       "cluster                               \n",
       "0                1.540297     0.253731\n",
       "1                0.389831     0.689807\n",
       "2                3.175048     1.363780\n",
       "3                4.449441     0.299852\n",
       "4                0.259622     0.236885"
      ]
     },
     "execution_count": 97,
     "metadata": {},
     "output_type": "execute_result"
    }
   ],
   "source": [
    "# Fit the k-means classifier and predict cluster \n",
    "kmeans = KMeans(n_clusters=5, \n",
    "                init='k-means++', \n",
    "                max_iter=300, \n",
    "                n_init=10,\n",
    "                random_state=0)\n",
    "kmeans.fit(X)\n",
    "predict = kmeans.predict(X)\n",
    "\n",
    "# Join result back to the dataset\n",
    "data['cluster'] = pd.Series(predict, index=data.index)\n",
    "\n",
    "# Show a desciptive description of the clusters, using the mean of the infestation rate and case-related fatality rate\n",
    "data.groupby(['cluster'])[['perc_infected_dn', 'perc_cfr_dn']].mean()"
   ]
  },
  {
   "cell_type": "code",
   "execution_count": 98,
   "metadata": {
    "scrolled": true
   },
   "outputs": [
    {
     "data": {
      "image/png": "[encoded data removed]",
      "text/plain": [
       "<Figure size 720x576 with 1 Axes>"
      ]
     },
     "metadata": {
      "needs_background": "light"
     },
     "output_type": "display_data"
    }
   ],
   "source": [
    "plt.figure(figsize=(10,8)) \n",
    "g = sns.scatterplot(x = \"perc_infected_dn\", \n",
    "                    y = \"perc_cfr_dn\",  \n",
    "                    hue = \"Region\", \n",
    "                    style = \"cluster\",\n",
    "                    s=200, \n",
    "                    alpha=0.8,\n",
    "                    data = data)\n",
    "\n",
    "\n",
    "\n",
    "g.set(xlim=(-.1, max(data['perc_infected_dn']*1.1)), \n",
    "      ylim=(-.1, max(data['perc_cfr_dn']*1.1)))\n",
    "\n",
    "plt.legend(bbox_to_anchor=(1, 1), loc=2)\n",
    "plt.show()"
   ]
  },
  {
   "cell_type": "code",
   "execution_count": null,
   "metadata": {},
   "outputs": [],
   "source": []
  }
 ],
 "metadata": {
  "kernelspec": {
   "display_name": "Python 3",
   "language": "python",
   "name": "python3"
  },
  "language_info": {
   "codemirror_mode": {
    "name": "ipython",
    "version": 3
   },
   "file_extension": ".py",
   "mimetype": "text/x-python",
   "name": "python",
   "nbconvert_exporter": "python",
   "pygments_lexer": "ipython3",
   "version": "3.7.4"
  }
 },
 "nbformat": 4,
 "nbformat_minor": 4
}
